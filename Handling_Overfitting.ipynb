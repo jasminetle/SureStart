{
  "nbformat": 4,
  "nbformat_minor": 0,
  "metadata": {
    "colab": {
      "name": "Handling_Overfitting.ipynb",
      "provenance": []
    },
    "kernelspec": {
      "name": "python3",
      "display_name": "Python 3"
    }
  },
  "cells": [
    {
      "cell_type": "markdown",
      "metadata": {
        "id": "QHag5njAx2e-"
      },
      "source": [
        "## **Handling Overfitting in Deep Learning Model**"
      ]
    },
    {
      "cell_type": "markdown",
      "metadata": {
        "id": "wArFLktDx-oI"
      },
      "source": [
        "Overfitting occur when the model learns specific patterns of the training data that is irrelevant to other data introduced into the model. \r\n",
        "\r\n",
        "The training data used in the model is from [this ](https://www.kaggle.com/crowdflower/twitter-airline-sentiment)Kaggle notebook.\r\n",
        "\r\n",
        "The hands on tutorial that I will be following is found [here](https://towardsdatascience.com/handling-overfitting-in-deep-learning-models-c760ee047c6e#:~:text=Overfitting%20occurs%20when%20you%20achieve,are%20irrelevant%20in%20other%20data.&text=The%20best%20option%20is%20to%20get%20more%20training%20data).\r\n"
      ]
    },
    {
      "cell_type": "markdown",
      "metadata": {
        "id": "VMMDh0GPy4h9"
      },
      "source": [
        "### **Set Up**\r\n",
        "\r\n",
        "Importing the necessary packages and configuring some parameters."
      ]
    },
    {
      "cell_type": "code",
      "metadata": {
        "id": "rAsmejLjx-Z2"
      },
      "source": [
        "# Basic packages\r\n",
        "import pandas as pd \r\n",
        "import numpy as np\r\n",
        "import re\r\n",
        "import collections\r\n",
        "import matplotlib.pyplot as plt\r\n",
        "from pathlib import Path\r\n",
        "\r\n",
        "# Packages for data preparation\r\n",
        "from sklearn.model_selection import train_test_split\r\n",
        "from nltk.corpus import stopwords\r\n",
        "from keras.preprocessing.text import Tokenizer\r\n",
        "from keras.utils.np_utils import to_categorical\r\n",
        "from sklearn.preprocessing import LabelEncoder\r\n",
        "\r\n",
        "# Packages for modeling\r\n",
        "from keras import models\r\n",
        "from keras import layers\r\n",
        "from keras import regularizers"
      ],
      "execution_count": 3,
      "outputs": []
    },
    {
      "cell_type": "code",
      "metadata": {
        "id": "oNEuX-q7x0lQ"
      },
      "source": [
        "# Parameter indicating the number of words we'll put in the dictionary\r\n",
        "NB_WORDS = 10000  \r\n",
        "# Number of epochs we usually start to train with\r\n",
        "NB_START_EPOCHS = 20 \r\n",
        "# Size of the batches used in the mini-batch gradient descent\r\n",
        "BATCH_SIZE = 512 \r\n",
        "# Maximum number of words in a sequence\r\n",
        "MAX_LEN = 20  \r\n",
        "\r\n",
        "root = Path('../')\r\n",
        "input_path = root / 'input/' \r\n",
        "ouput_path = root / 'output/'\r\n",
        "source_path = root / 'source/'"
      ],
      "execution_count": 4,
      "outputs": []
    },
    {
      "cell_type": "markdown",
      "metadata": {
        "id": "n3yZGr4izmyU"
      },
      "source": [
        "### **Helper Functions**"
      ]
    },
    {
      "cell_type": "code",
      "metadata": {
        "id": "F30EeD0Pzmb6"
      },
      "source": [
        "def deep_model(model, X_train, y_train, X_valid, y_valid):\r\n",
        "    '''\r\n",
        "    Function to train a multi-class model. The number of epochs and \r\n",
        "    batch_size are set by the constants at the top of the\r\n",
        "    notebook. \r\n",
        "    \r\n",
        "    Parameters:\r\n",
        "        model : model with the chosen architecture\r\n",
        "        X_train : training features\r\n",
        "        y_train : training target\r\n",
        "        X_valid : validation features\r\n",
        "        Y_valid : validation target\r\n",
        "    Output:\r\n",
        "        model training history\r\n",
        "    '''\r\n",
        "    model.compile(optimizer='rmsprop'\r\n",
        "                  , loss='categorical_crossentropy'\r\n",
        "                  , metrics=['accuracy'])\r\n",
        "    \r\n",
        "    history = model.fit(X_train\r\n",
        "                       , y_train\r\n",
        "                       , epochs=NB_START_EPOCHS\r\n",
        "                       , batch_size=BATCH_SIZE\r\n",
        "                       , validation_data=(X_valid, y_valid)\r\n",
        "                       , verbose=0)\r\n",
        "    return history\r\n",
        "def eval_metric(model, history, metric_name):\r\n",
        "    '''\r\n",
        "    Function to evaluate a trained model on a chosen metric. \r\n",
        "    Training and validation metric are plotted in a\r\n",
        "    line chart for each epoch.\r\n",
        "    \r\n",
        "    Parameters:\r\n",
        "        history : model training history\r\n",
        "        metric_name : loss or accuracy\r\n",
        "    Output:\r\n",
        "        line chart with epochs of x-axis and metric on\r\n",
        "        y-axis\r\n",
        "    '''\r\n",
        "    metric = history.history[metric_name]\r\n",
        "    val_metric = history.history['val_' + metric_name]\r\n",
        "    e = range(1, NB_START_EPOCHS + 1)\r\n",
        "    plt.plot(e, metric, 'bo', label='Train ' + metric_name)\r\n",
        "    plt.plot(e, val_metric, 'b', label='Validation ' + metric_name)\r\n",
        "    plt.xlabel('Epoch number')\r\n",
        "    plt.ylabel(metric_name)\r\n",
        "    plt.title('Comparing training and validation ' + metric_name + ' for ' + model.name)\r\n",
        "    plt.legend()\r\n",
        "    plt.show()\r\n",
        "def test_model(model, X_train, y_train, X_test, y_test, epoch_stop):\r\n",
        "    '''\r\n",
        "    Function to test the model on new data after training it\r\n",
        "    on the full training data with the optimal number of epochs.\r\n",
        "    \r\n",
        "    Parameters:\r\n",
        "        model : trained model\r\n",
        "        X_train : training features\r\n",
        "        y_train : training target\r\n",
        "        X_test : test features\r\n",
        "        y_test : test target\r\n",
        "        epochs : optimal number of epochs\r\n",
        "    Output:\r\n",
        "        test accuracy and test loss\r\n",
        "    '''\r\n",
        "    model.fit(X_train\r\n",
        "              , y_train\r\n",
        "              , epochs=epoch_stop\r\n",
        "              , batch_size=BATCH_SIZE\r\n",
        "              , verbose=0)\r\n",
        "    results = model.evaluate(X_test, y_test)\r\n",
        "    print()\r\n",
        "    print('Test accuracy: {0:.2f}%'.format(results[1]*100))\r\n",
        "    return results\r\n",
        "    \r\n",
        "def remove_stopwords(input_text):\r\n",
        "    '''\r\n",
        "    Function to remove English stopwords from a Pandas Series.\r\n",
        "    \r\n",
        "    Parameters:\r\n",
        "        input_text : text to clean\r\n",
        "    Output:\r\n",
        "        cleaned Pandas Series \r\n",
        "    '''\r\n",
        "    stopwords_list = stopwords.words('english')\r\n",
        "    # Some words which might indicate a certain sentiment are kept via a whitelist\r\n",
        "    whitelist = [\"n't\", \"not\", \"no\"]\r\n",
        "    words = input_text.split() \r\n",
        "    clean_words = [word for word in words if (word not in stopwords_list or word in whitelist) and len(word) > 1] \r\n",
        "    return \" \".join(clean_words) \r\n",
        "    \r\n",
        "def remove_mentions(input_text):\r\n",
        "    '''\r\n",
        "    Function to remove mentions, preceded by @, in a Pandas Series\r\n",
        "    \r\n",
        "    Parameters:\r\n",
        "        input_text : text to clean\r\n",
        "    Output:\r\n",
        "        cleaned Pandas Series \r\n",
        "    '''\r\n",
        "    return re.sub(r'@\\w+', '', input_text)\r\n",
        "def compare_models_by_metric(model_1, model_2, model_hist_1, model_hist_2, metric):\r\n",
        "    '''\r\n",
        "    Function to compare a metric between two models \r\n",
        "    \r\n",
        "    Parameters:\r\n",
        "        model_hist_1 : training history of model 1\r\n",
        "        model_hist_2 : training history of model 2\r\n",
        "        metrix : metric to compare, loss, acc, val_loss or val_acc\r\n",
        "        \r\n",
        "    Output:\r\n",
        "        plot of metrics of both models\r\n",
        "    '''\r\n",
        "    metric_model_1 = model_hist_1.history[metric]\r\n",
        "    metric_model_2 = model_hist_2.history[metric]\r\n",
        "    e = range(1, NB_START_EPOCHS + 1)\r\n",
        "    \r\n",
        "    metrics_dict = {\r\n",
        "        'acc' : 'Training Accuracy',\r\n",
        "        'loss' : 'Training Loss',\r\n",
        "        'val_acc' : 'Validation accuracy',\r\n",
        "        'val_loss' : 'Validation loss'\r\n",
        "    }\r\n",
        "    \r\n",
        "    metric_label = metrics_dict[metric]\r\n",
        "    plt.plot(e, metric_model_1, 'bo', label=model_1.name)\r\n",
        "    plt.plot(e, metric_model_2, 'b', label=model_2.name)\r\n",
        "    plt.xlabel('Epoch number')\r\n",
        "    plt.ylabel(metric_label)\r\n",
        "    plt.title('Comparing ' + metric_label + ' between models')\r\n",
        "    plt.legend()\r\n",
        "    plt.show()\r\n",
        "    \r\n",
        "def optimal_epoch(model_hist):\r\n",
        "    '''\r\n",
        "    Function to return the epoch number where the validation loss is\r\n",
        "    at its minimum\r\n",
        "    \r\n",
        "    Parameters:\r\n",
        "        model_hist : training history of model\r\n",
        "    Output:\r\n",
        "        epoch number with minimum validation loss\r\n",
        "    '''\r\n",
        "    min_epoch = np.argmin(model_hist.history['val_loss']) + 1\r\n",
        "    print(\"Minimum validation loss reached in epoch {}\".format(min_epoch))\r\n",
        "    return min_epoch"
      ],
      "execution_count": 5,
      "outputs": []
    },
    {
      "cell_type": "markdown",
      "metadata": {
        "id": "HaLfWZpZz0at"
      },
      "source": [
        "### **Data Preparation**"
      ]
    },
    {
      "cell_type": "markdown",
      "metadata": {
        "id": "iUsH_b5k1Gd-"
      },
      "source": [
        "**Data Cleaning**\r\n",
        "1.   Load CSV with Tweets \r\n",
        "2.   Performa a random shuffle (classes are equally distributed over the train and test sets)\r\n",
        "3.   Keep the \"text\" column as input and the \"airline_sentiment\" column as the target\r\n",
        "4.   Remove \"stopwords\". They do not have any value for predicting sentiment\r\n",
        "\r\n"
      ]
    },
    {
      "cell_type": "code",
      "metadata": {
        "colab": {
          "base_uri": "https://localhost:8080/"
        },
        "id": "dWBQWoRIz1k2",
        "outputId": "9be1ac73-6c35-4380-a23b-c36073369206"
      },
      "source": [
        "import nltk\r\n",
        "nltk.download('stopwords')\r\n",
        "\r\n",
        "df = pd.read_csv(input_path / '/home/Tweets.csv')\r\n",
        "df = df.reindex(np.random.permutation(df.index))  \r\n",
        "df = df[['text', 'airline_sentiment']]\r\n",
        "df.text = df.text.apply(remove_stopwords).apply(remove_mentions)"
      ],
      "execution_count": 8,
      "outputs": [
        {
          "output_type": "stream",
          "text": [
            "[nltk_data] Downloading package stopwords to /root/nltk_data...\n",
            "[nltk_data]   Unzipping corpora/stopwords.zip.\n"
          ],
          "name": "stdout"
        }
      ]
    },
    {
      "cell_type": "markdown",
      "metadata": {
        "id": "iYWimMmR19dt"
      },
      "source": [
        "**Train-Test Split**"
      ]
    },
    {
      "cell_type": "code",
      "metadata": {
        "colab": {
          "base_uri": "https://localhost:8080/"
        },
        "id": "8M0xTARk19uj",
        "outputId": "75577725-cca2-4f02-ea7b-e2607ca331f6"
      },
      "source": [
        "X_train, X_test, y_train, y_test = train_test_split(df.text, df.airline_sentiment, test_size=0.1, random_state=37)\r\n",
        "\r\n",
        "print('# Train data samples:', X_train.shape[0])\r\n",
        "print('# Test data samples:', X_test.shape[0])"
      ],
      "execution_count": 9,
      "outputs": [
        {
          "output_type": "stream",
          "text": [
            "# Train data samples: 13176\n",
            "# Test data samples: 1464\n"
          ],
          "name": "stdout"
        }
      ]
    },
    {
      "cell_type": "markdown",
      "metadata": {
        "id": "EFei6xdP2QY8"
      },
      "source": [
        "**Converting Words to Numbers**\r\n",
        "- To use text as input for a model, we need to convert the words into tokens \r\n",
        "- The text is cleaned up by applying filters and making the words lowercase"
      ]
    },
    {
      "cell_type": "code",
      "metadata": {
        "id": "edGiTtJC2QEh"
      },
      "source": [
        "# Created the dictionary and \r\n",
        "# Converted the text of a tweet to a vector with NB_WORDS values\r\n",
        "tk = Tokenizer(num_words=NB_WORDS,\r\n",
        "               filters='!\"#$%&()*+,-./:;<=>?@[\\\\]^_`{\"}~\\t\\n',\r\n",
        "               lower=True,\r\n",
        "               char_level=False,\r\n",
        "               split=' ')\r\n",
        "tk.fit_on_texts(X_train)"
      ],
      "execution_count": 10,
      "outputs": []
    },
    {
      "cell_type": "code",
      "metadata": {
        "id": "w5C1mUKO22TC"
      },
      "source": [
        "# mode=binary: an indicator whether the word appeared in the tweet or not\r\n",
        "\r\n",
        "X_train_oh = tk.texts_to_matrix(X_train, mode='binary')\r\n",
        "X_test_oh = tk.texts_to_matrix(X_test, mode='binary')"
      ],
      "execution_count": 18,
      "outputs": []
    },
    {
      "cell_type": "markdown",
      "metadata": {
        "id": "dQGM235k3QYy"
      },
      "source": [
        "**Converting Target Classes to Numbers**\r\n",
        "- Convert the target classes to numbers (one-hot-encoded with the to_categorical method in Keras)\r\n",
        "\r\n"
      ]
    },
    {
      "cell_type": "code",
      "metadata": {
        "id": "lhFJ3G_u3fPw"
      },
      "source": [
        "le = LabelEncoder()\r\n",
        "y_train_le = le.fit_transform(y_train)\r\n",
        "y_test_le = le.transform(y_test)\r\n",
        "y_train_oh = to_categorical(y_train_le)\r\n",
        "y_test_oh = to_categorical(y_test_le)"
      ],
      "execution_count": 19,
      "outputs": []
    },
    {
      "cell_type": "markdown",
      "metadata": {
        "id": "vcovAvJx3pa2"
      },
      "source": [
        "**Splitting of a Validation Set**\r\n",
        "- validation set will be used to evaluate the model performance when tuning the parameters of the model"
      ]
    },
    {
      "cell_type": "code",
      "metadata": {
        "colab": {
          "base_uri": "https://localhost:8080/"
        },
        "id": "b-vH-p9u3051",
        "outputId": "8163e17c-8c26-40d8-8858-e6b754d876f0"
      },
      "source": [
        "X_train_rest, X_valid, y_train_rest, y_valid = train_test_split(X_train_oh, y_train_oh, test_size=0.1, random_state=37)\r\n",
        "print('shape of val set:', X_valid.shape)"
      ],
      "execution_count": 20,
      "outputs": [
        {
          "output_type": "stream",
          "text": [
            "shape of val set: (1318, 10000)\n"
          ],
          "name": "stdout"
        }
      ]
    },
    {
      "cell_type": "markdown",
      "metadata": {
        "id": "qdpexK5y4UWY"
      },
      "source": [
        "## **Deep Learning**"
      ]
    },
    {
      "cell_type": "markdown",
      "metadata": {
        "id": "lx9evhUE4ZcX"
      },
      "source": [
        "**Creating a model that overfits**"
      ]
    },
    {
      "cell_type": "markdown",
      "metadata": {
        "id": "iyxhAjfD4weG"
      },
      "source": [
        "- The input_shape for the first layer is equal to the number of words we kept in the dictionary\r\n",
        "- The softmax activation function makes sure the three probabilities sum up to 1.\r\n",
        "- The number of parameters to train is computed as (nb inputs x nb elements in hidden layer) + nb bias terms. \r\n",
        "\r\n",
        "The number of parameters per layer are:\r\n",
        "\r\n",
        "First layer : (10000 x 64) + 64 = 640064\r\n",
        "\r\n",
        "Second layer : (64 x 64) + 64 = 4160\r\n",
        "\r\n",
        "Last layer : (64 x 3) + 3 = 195"
      ]
    },
    {
      "cell_type": "code",
      "metadata": {
        "colab": {
          "base_uri": "https://localhost:8080/"
        },
        "id": "TUeERYRK4h7-",
        "outputId": "7b254653-2326-463a-e834-85685f0ea2ba"
      },
      "source": [
        "base_model = models.Sequential()\r\n",
        "base_model.add(layers.Dense(64, activation='relu', input_shape=(NB_WORDS,)))\r\n",
        "base_model.add(layers.Dense(64, activation='relu'))\r\n",
        "base_model.add(layers.Dense(3, activation='softmax'))\r\n",
        "base_model.summary()"
      ],
      "execution_count": 22,
      "outputs": [
        {
          "output_type": "stream",
          "text": [
            "Model: \"sequential_1\"\n",
            "_________________________________________________________________\n",
            "Layer (type)                 Output Shape              Param #   \n",
            "=================================================================\n",
            "dense_3 (Dense)              (None, 64)                640064    \n",
            "_________________________________________________________________\n",
            "dense_4 (Dense)              (None, 64)                4160      \n",
            "_________________________________________________________________\n",
            "dense_5 (Dense)              (None, 3)                 195       \n",
            "=================================================================\n",
            "Total params: 644,419\n",
            "Trainable params: 644,419\n",
            "Non-trainable params: 0\n",
            "_________________________________________________________________\n"
          ],
          "name": "stdout"
        }
      ]
    },
    {
      "cell_type": "code",
      "metadata": {
        "colab": {
          "base_uri": "https://localhost:8080/",
          "height": 312
        },
        "id": "jzozthrC5LYg",
        "outputId": "8362ca5a-5d9f-4dc5-a756-455b64daaf28"
      },
      "source": [
        "base_history = deep_model(base_model, X_train_rest, y_train_rest, X_valid, y_valid)\r\n",
        "base_min = optimal_epoch(base_history)\r\n",
        "eval_metric(base_model, base_history, 'loss')"
      ],
      "execution_count": 23,
      "outputs": [
        {
          "output_type": "stream",
          "text": [
            "Minimum validation loss reached in epoch 4\n"
          ],
          "name": "stdout"
        },
        {
          "output_type": "display_data",
          "data": {
            "image/png": "[encoded data removed]",
            "text/plain": [
              "<Figure size 432x288 with 1 Axes>"
            ]
          },
          "metadata": {
            "tags": [],
            "needs_background": "light"
          }
        }
      ]
    },
    {
      "cell_type": "markdown",
      "metadata": {
        "id": "opgrjaqd5ZZI"
      },
      "source": [
        "- In the beginning, the validation loss goes down. \r\n",
        "- However, at epoch 3 this stops and the validation loss starts increasing rapidly. This is when the models begin to **overfit**.\r\n",
        "- The training loss continues to go down and almost reaches zero at epoch 20. \r\n",
        "- This is normal as the model is trained to fit the train data as good as possible"
      ]
    },
    {
      "cell_type": "markdown",
      "metadata": {
        "id": "rFxzmgJt5vjL"
      },
      "source": [
        "## **Handling Overfitting**"
      ]
    },
    {
      "cell_type": "markdown",
      "metadata": {
        "id": "AbwpLQeB534-"
      },
      "source": [
        "- **Reduce the network’s capacity** by removing layers or reducing the number of elements in the hidden layers\r\n",
        "- **Apply regularization**, which comes down to adding a cost to the loss function for large weights\r\n",
        "- **Use Dropout layers**, which will randomly remove certain features by setting them to zero"
      ]
    },
    {
      "cell_type": "markdown",
      "metadata": {
        "id": "MeXBev1N6EF3"
      },
      "source": [
        "**Reducing the Network's Capacity**\r\n",
        "- The higher the number oftrainable parameters, the easier the model can memorize the target class for each training sample\r\n",
        "- By lowering the capacity of the network, you force it to learn the patterns that matter or that minimize the loss\r\n",
        "- On the other hand, reducing the network’s capacity too much will lead to underfitting"
      ]
    },
    {
      "cell_type": "code",
      "metadata": {
        "colab": {
          "base_uri": "https://localhost:8080/"
        },
        "id": "cLqOs9kl5_jo",
        "outputId": "e765df09-4648-425d-ed3b-36ba163c516f"
      },
      "source": [
        "# reduce the network’s capacity by removing one hidden layer and \r\n",
        "# lowering the number of elements in the remaining layer to 16.\r\n",
        "reduced_model = models.Sequential()\r\n",
        "reduced_model.add(layers.Dense(16, activation='relu', input_shape=(NB_WORDS,)))\r\n",
        "reduced_model.add(layers.Dense(3, activation='softmax'))\r\n",
        "reduced_model.summary()\r\n"
      ],
      "execution_count": 26,
      "outputs": [
        {
          "output_type": "stream",
          "text": [
            "Model: \"sequential_4\"\n",
            "_________________________________________________________________\n",
            "Layer (type)                 Output Shape              Param #   \n",
            "=================================================================\n",
            "dense_10 (Dense)             (None, 16)                160016    \n",
            "_________________________________________________________________\n",
            "dense_11 (Dense)             (None, 3)                 51        \n",
            "=================================================================\n",
            "Total params: 160,067\n",
            "Trainable params: 160,067\n",
            "Non-trainable params: 0\n",
            "_________________________________________________________________\n"
          ],
          "name": "stdout"
        }
      ]
    },
    {
      "cell_type": "code",
      "metadata": {
        "colab": {
          "base_uri": "https://localhost:8080/",
          "height": 312
        },
        "id": "MakhY6PS6sls",
        "outputId": "f596b856-6b6a-49ed-9771-45b738782587"
      },
      "source": [
        "reduced_history = deep_model(reduced_model, X_train_rest, y_train_rest, X_valid, y_valid)\r\n",
        "reduced_min = optimal_epoch(reduced_history)\r\n",
        "eval_metric(reduced_model, reduced_history, 'loss')"
      ],
      "execution_count": 27,
      "outputs": [
        {
          "output_type": "stream",
          "text": [
            "Minimum validation loss reached in epoch 12\n"
          ],
          "name": "stdout"
        },
        {
          "output_type": "display_data",
          "data": {
            "image/png": "[encoded data removed]",
            "text/plain": [
              "<Figure size 432x288 with 1 Axes>"
            ]
          },
          "metadata": {
            "tags": [],
            "needs_background": "light"
          }
        }
      ]
    },
    {
      "cell_type": "markdown",
      "metadata": {
        "id": "iuc9tK3-6yeh"
      },
      "source": [
        "- It takes more epochs before the reduced model starts overfitting. \r\n",
        "- The validation loss also goes up slower than our first model."
      ]
    },
    {
      "cell_type": "code",
      "metadata": {
        "colab": {
          "base_uri": "https://localhost:8080/",
          "height": 295
        },
        "id": "BziybYR362Js",
        "outputId": "c4749d3a-bc7b-4878-c269-45b4dcc77043"
      },
      "source": [
        "compare_models_by_metric(base_model, reduced_model, base_history, reduced_history, 'val_loss')"
      ],
      "execution_count": 28,
      "outputs": [
        {
          "output_type": "display_data",
          "data": {
            "image/png": "[encoded data removed]",
            "text/plain": [
              "<Figure size 432x288 with 1 Axes>"
            ]
          },
          "metadata": {
            "tags": [],
            "needs_background": "light"
          }
        }
      ]
    },
    {
      "cell_type": "markdown",
      "metadata": {
        "id": "xa4wQb0G62gj"
      },
      "source": [
        "- The reduced model starts overfitting at a later epoch. \r\n",
        "- The validation loss stays lower much longer than the baseline model."
      ]
    },
    {
      "cell_type": "markdown",
      "metadata": {
        "id": "ytzzztiW7Cj4"
      },
      "source": [
        "**Applying Regularization**\r\n",
        "- L1 regularization will add a cost with regards to the absolute value of the parameters. It will result in some of the weights to be equal to zero.\r\n",
        "- L2 regularization will add a cost with regards to the squared value of the parameters. This results in smaller weights."
      ]
    },
    {
      "cell_type": "code",
      "metadata": {
        "colab": {
          "base_uri": "https://localhost:8080/"
        },
        "id": "VC6uEw5CAYAh",
        "outputId": "44f4328d-eba8-4f37-bb8f-d825398ba21b"
      },
      "source": [
        "# L2 Regularization\r\n",
        "reg_model = models.Sequential()\r\n",
        "reg_model.add(layers.Dense(64, kernel_regularizer=regularizers.l2(0.001), activation='relu', input_shape=(NB_WORDS,)))\r\n",
        "reg_model.add(layers.Dense(64, kernel_regularizer=regularizers.l2(0.001), activation='relu'))\r\n",
        "reg_model.add(layers.Dense(3, activation='softmax'))\r\n",
        "reg_model.summary()\r\n",
        "reg_history = deep_model(reg_model, X_train_rest, y_train_rest, X_valid, y_valid)\r\n",
        "reg_min = optimal_epoch(reg_history)"
      ],
      "execution_count": 29,
      "outputs": [
        {
          "output_type": "stream",
          "text": [
            "Model: \"sequential_5\"\n",
            "_________________________________________________________________\n",
            "Layer (type)                 Output Shape              Param #   \n",
            "=================================================================\n",
            "dense_12 (Dense)             (None, 64)                640064    \n",
            "_________________________________________________________________\n",
            "dense_13 (Dense)             (None, 64)                4160      \n",
            "_________________________________________________________________\n",
            "dense_14 (Dense)             (None, 3)                 195       \n",
            "=================================================================\n",
            "Total params: 644,419\n",
            "Trainable params: 644,419\n",
            "Non-trainable params: 0\n",
            "_________________________________________________________________\n",
            "Minimum validation loss reached in epoch 4\n"
          ],
          "name": "stdout"
        }
      ]
    },
    {
      "cell_type": "code",
      "metadata": {
        "colab": {
          "base_uri": "https://localhost:8080/",
          "height": 295
        },
        "id": "On_mdioiAgc6",
        "outputId": "fe86128e-86ee-429a-e8a2-74c42dcead3a"
      },
      "source": [
        "eval_metric(reg_model, reg_history, 'loss')\r\n",
        "#It starts overfitting in the same epoch as the baseline model.\r\n",
        "#However, the loss increases much slower afterward."
      ],
      "execution_count": 30,
      "outputs": [
        {
          "output_type": "display_data",
          "data": {
            "image/png": "[encoded data removed]",
            "text/plain": [
              "<Figure size 432x288 with 1 Axes>"
            ]
          },
          "metadata": {
            "tags": [],
            "needs_background": "light"
          }
        }
      ]
    },
    {
      "cell_type": "code",
      "metadata": {
        "colab": {
          "base_uri": "https://localhost:8080/",
          "height": 295
        },
        "id": "Wz0c_jDUAp1e",
        "outputId": "2d88d85a-9585-47b2-972e-342a03f069ce"
      },
      "source": [
        "compare_models_by_metric(base_model, reg_model, base_history, reg_history, 'val_loss')"
      ],
      "execution_count": 31,
      "outputs": [
        {
          "output_type": "display_data",
          "data": {
            "image/png": "[encoded data removed]",
            "text/plain": [
              "<Figure size 432x288 with 1 Axes>"
            ]
          },
          "metadata": {
            "tags": [],
            "needs_background": "light"
          }
        }
      ]
    },
    {
      "cell_type": "markdown",
      "metadata": {
        "id": "9yPqx6wpAs4U"
      },
      "source": [
        "**Dropout Layers**\r\n",
        "- randomly set output features of a layer to zero"
      ]
    },
    {
      "cell_type": "code",
      "metadata": {
        "colab": {
          "base_uri": "https://localhost:8080/"
        },
        "id": "AQ967cZaAsjy",
        "outputId": "8b213278-2d63-41bb-c558-6cd451451332"
      },
      "source": [
        "drop_model = models.Sequential()\r\n",
        "drop_model.add(layers.Dense(64, activation='relu', input_shape=(NB_WORDS,)))\r\n",
        "drop_model.add(layers.Dropout(0.5))\r\n",
        "drop_model.add(layers.Dense(64, activation='relu'))\r\n",
        "drop_model.add(layers.Dropout(0.5))\r\n",
        "drop_model.add(layers.Dense(3, activation='softmax'))\r\n",
        "drop_model.summary()\r\n",
        "drop_history = deep_model(drop_model, X_train_rest, y_train_rest, X_valid, y_valid)\r\n",
        "drop_min = optimal_epoch(drop_history)"
      ],
      "execution_count": 32,
      "outputs": [
        {
          "output_type": "stream",
          "text": [
            "Model: \"sequential_6\"\n",
            "_________________________________________________________________\n",
            "Layer (type)                 Output Shape              Param #   \n",
            "=================================================================\n",
            "dense_15 (Dense)             (None, 64)                640064    \n",
            "_________________________________________________________________\n",
            "dropout (Dropout)            (None, 64)                0         \n",
            "_________________________________________________________________\n",
            "dense_16 (Dense)             (None, 64)                4160      \n",
            "_________________________________________________________________\n",
            "dropout_1 (Dropout)          (None, 64)                0         \n",
            "_________________________________________________________________\n",
            "dense_17 (Dense)             (None, 3)                 195       \n",
            "=================================================================\n",
            "Total params: 644,419\n",
            "Trainable params: 644,419\n",
            "Non-trainable params: 0\n",
            "_________________________________________________________________\n",
            "Minimum validation loss reached in epoch 5\n"
          ],
          "name": "stdout"
        }
      ]
    },
    {
      "cell_type": "code",
      "metadata": {
        "colab": {
          "base_uri": "https://localhost:8080/",
          "height": 295
        },
        "id": "cFLm-Rw6A0Gx",
        "outputId": "7d24fe38-004a-4edb-dabb-60916f32c542"
      },
      "source": [
        "eval_metric(drop_model, drop_history, 'loss')\r\n",
        "#The model with dropout layers starts overfitting later than the baseline model. \r\n",
        "#The loss also increases slower than the baseline model."
      ],
      "execution_count": 33,
      "outputs": [
        {
          "output_type": "display_data",
          "data": {
            "image/png": "[encoded data removed]",
            "text/plain": [
              "<Figure size 432x288 with 1 Axes>"
            ]
          },
          "metadata": {
            "tags": [],
            "needs_background": "light"
          }
        }
      ]
    },
    {
      "cell_type": "code",
      "metadata": {
        "colab": {
          "base_uri": "https://localhost:8080/",
          "height": 295
        },
        "id": "TmkYXo7iBBfZ",
        "outputId": "082b3e7a-7a04-42ef-ec83-9061b7253a98"
      },
      "source": [
        "compare_models_by_metric(base_model, drop_model, base_history, drop_history, 'val_loss')"
      ],
      "execution_count": 34,
      "outputs": [
        {
          "output_type": "display_data",
          "data": {
            "image/png": "[encoded data removed]",
            "text/plain": [
              "<Figure size 432x288 with 1 Axes>"
            ]
          },
          "metadata": {
            "tags": [],
            "needs_background": "light"
          }
        }
      ]
    },
    {
      "cell_type": "code",
      "metadata": {
        "colab": {
          "base_uri": "https://localhost:8080/"
        },
        "id": "3nyLe5X8BQEN",
        "outputId": "b435d66a-edc7-4c5e-ffcf-a340b369be19"
      },
      "source": [
        "base_results = test_model(base_model, X_train_oh, y_train_oh, X_test_oh, y_test_oh, base_min)\r\n",
        "reduced_results = test_model(reduced_model, X_train_oh, y_train_oh, X_test_oh, y_test_oh, reduced_min)\r\n",
        "reg_results = test_model(reg_model, X_train_oh, y_train_oh, X_test_oh, y_test_oh, reg_min)\r\n",
        "drop_results = test_model(drop_model, X_train_oh, y_train_oh, X_test_oh, y_test_oh, drop_min)"
      ],
      "execution_count": 35,
      "outputs": [
        {
          "output_type": "stream",
          "text": [
            "46/46 [==============================] - 0s 2ms/step - loss: 1.2714 - accuracy: 0.7452\n",
            "\n",
            "Test accuracy: 74.52%\n",
            "46/46 [==============================] - 0s 2ms/step - loss: 0.6826 - accuracy: 0.7637\n",
            "\n",
            "Test accuracy: 76.37%\n",
            "46/46 [==============================] - 0s 5ms/step - loss: 0.8028 - accuracy: 0.7582\n",
            "\n",
            "Test accuracy: 75.82%\n",
            "46/46 [==============================] - 0s 2ms/step - loss: 0.9312 - accuracy: 0.7643\n",
            "\n",
            "Test accuracy: 76.43%\n"
          ],
          "name": "stdout"
        }
      ]
    },
    {
      "cell_type": "markdown",
      "metadata": {
        "id": "4itHOl4DBcFT"
      },
      "source": [
        "Of the three options to reduce overfitting, the model with the Dropout layers performs the best on the test data. "
      ]
    }
  ]
}