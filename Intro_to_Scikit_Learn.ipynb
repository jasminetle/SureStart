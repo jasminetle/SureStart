{
 "cells": [
  {
   "cell_type": "code",
   "execution_count": 1,
   "id": "interested-memory",
   "metadata": {},
   "outputs": [
    {
     "data": {
      "text/plain": [
       "'iris.pdf'"
      ]
     },
     "execution_count": 1,
     "metadata": {},
     "output_type": "execute_result"
    }
   ],
   "source": [
    "from sklearn.datasets import load_iris\n",
    "from sklearn import tree\n",
    "import graphviz\n",
    "\n",
    "iris_data=load_iris()\n",
    "\n",
    "classification_tree = tree.DecisionTreeClassifier()\n",
    "\n",
    "classification_tree = classification_tree.fit(iris_data.data, iris_data.target)\n",
    "\n",
    "dot_data = tree.export_graphviz(classification_tree, out_file=None, \n",
    "                     feature_names=iris_data.feature_names,  \n",
    "                     class_names=iris_data.target_names,  \n",
    "                     filled=True, rounded=True,  \n",
    "                     special_characters=True)  \n",
    "graph = graphviz.Source(dot_data)  \n",
    "graph.render(\"iris\") "
   ]
  },
  {
   "cell_type": "code",
   "execution_count": null,
   "id": "rising-circuit",
   "metadata": {},
   "outputs": [],
   "source": []
  }
 ],
 "metadata": {
  "kernelspec": {
   "display_name": "Python 3",
   "language": "python",
   "name": "python3"
  },
  "language_info": {
   "codemirror_mode": {
    "name": "ipython",
    "version": 3
   },
   "file_extension": ".py",
   "mimetype": "text/x-python",
   "name": "python",
   "nbconvert_exporter": "python",
   "pygments_lexer": "ipython3",
   "version": "3.9.1"
  }
 },
 "nbformat": 4,
 "nbformat_minor": 5
}
