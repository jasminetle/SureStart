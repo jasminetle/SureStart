{
  "nbformat": 4,
  "nbformat_minor": 0,
  "metadata": {
    "colab": {
      "name": "Upsampling_Tutorial.ipynb",
      "provenance": []
    },
    "kernelspec": {
      "name": "python3",
      "display_name": "Python 3"
    }
  },
  "cells": [
    {
      "cell_type": "markdown",
      "metadata": {
        "id": "jCYsf8DMbSQK"
      },
      "source": [
        "This notebook follows the following tutorial about adding upscaling layers to a deep learning network so that I become more familiar with upsampling and downsampling: https://machinelearningmastery.com/upsampling-and-transpose-convolution-layers-for-generative-adversarial-networks/"
      ]
    },
    {
      "cell_type": "markdown",
      "metadata": {
        "id": "fiHA1bmHcjlJ"
      },
      "source": [
        "## **Need for Upsampling in Generative Adversial Networks**"
      ]
    },
    {
      "cell_type": "markdown",
      "metadata": {
        "id": "qNIMegdZcq-m"
      },
      "source": [
        "**Generative Adversarial Networks** are an architecture for neural networks for training a generative model. \r\n",
        "\r\n",
        "Architecture Composition (contained in a CNN):\r\n",
        "- generator model -> generate new examples from the problem domain\r\n",
        "- discrimator mode"
      ]
    },
    {
      "cell_type": "markdown",
      "metadata": {
        "id": "wzEAE7nrerHY"
      },
      "source": [
        "### **Example Using the UpSampling2D Layer**\r\n",
        "- The **simplest way** to **upsample** an input is to **double** each row and column\r\n"
      ]
    },
    {
      "cell_type": "code",
      "metadata": {
        "colab": {
          "base_uri": "https://localhost:8080/"
        },
        "id": "KqR0NRJna8kN",
        "outputId": "0ed4b93f-db8f-4604-d08d-1dae026760c8"
      },
      "source": [
        "# example of using the upsampling layer\r\n",
        "from numpy import asarray\r\n",
        "from keras.models import Sequential\r\n",
        "from keras.layers import UpSampling2D\r\n",
        "\r\n",
        "# define input data\r\n",
        "# input image is 2 x 2 pixels\r\n",
        "X = asarray([[1, 2],\r\n",
        " [3, 4]])\r\n",
        "\r\n",
        "# show input data for context\r\n",
        "print(X)"
      ],
      "execution_count": null,
      "outputs": [
        {
          "output_type": "stream",
          "text": [
            "[[1 2]\n",
            " [3 4]]\n"
          ],
          "name": "stdout"
        }
      ]
    },
    {
      "cell_type": "code",
      "metadata": {
        "id": "YFkf-XH1eL4D"
      },
      "source": [
        "# reshape input data into one sample a sample with a channel\r\n",
        "X = X.reshape((1, 2, 2, 1))"
      ],
      "execution_count": null,
      "outputs": []
    },
    {
      "cell_type": "code",
      "metadata": {
        "colab": {
          "base_uri": "https://localhost:8080/"
        },
        "id": "9T0PaE17eOKv",
        "outputId": "ab3497ca-c2e8-4a20-aac3-29954045f236"
      },
      "source": [
        "# define model\r\n",
        "model = Sequential()\r\n",
        "model.add(UpSampling2D(input_shape=(2, 2, 1)))\r\n",
        "# summarize the model\r\n",
        "model.summary()"
      ],
      "execution_count": null,
      "outputs": [
        {
          "output_type": "stream",
          "text": [
            "Model: \"sequential\"\n",
            "_________________________________________________________________\n",
            "Layer (type)                 Output Shape              Param #   \n",
            "=================================================================\n",
            "up_sampling2d (UpSampling2D) (None, 4, 4, 1)           0         \n",
            "=================================================================\n",
            "Total params: 0\n",
            "Trainable params: 0\n",
            "Non-trainable params: 0\n",
            "_________________________________________________________________\n"
          ],
          "name": "stdout"
        }
      ]
    },
    {
      "cell_type": "code",
      "metadata": {
        "colab": {
          "base_uri": "https://localhost:8080/"
        },
        "id": "xvzhUHSKePvC",
        "outputId": "b29df69d-959f-434c-aaf7-8b8572423bb9"
      },
      "source": [
        "# make a prediction with the model\r\n",
        "# upsampling a provided input image\r\n",
        "yhat = model.predict(X)\r\n",
        "# reshape output to remove channel to make printing easier\r\n",
        "yhat = yhat.reshape((4, 4))\r\n",
        "# summarize output\r\n",
        "print(yhat)"
      ],
      "execution_count": null,
      "outputs": [
        {
          "output_type": "stream",
          "text": [
            "[[1. 1. 2. 2.]\n",
            " [1. 1. 2. 2.]\n",
            " [3. 3. 4. 4.]\n",
            " [3. 3. 4. 4.]]\n"
          ],
          "name": "stdout"
        }
      ]
    },
    {
      "cell_type": "code",
      "metadata": {
        "colab": {
          "base_uri": "https://localhost:8080/"
        },
        "id": "jHkvVH_yfBfS",
        "outputId": "21b8988d-94fc-431a-fb9c-0e10c7c39070"
      },
      "source": [
        "# example of using different scale factors for each dimension\r\n",
        "model.add(UpSampling2D(size=(2, 3)))\r\n",
        "model.summary()"
      ],
      "execution_count": null,
      "outputs": [
        {
          "output_type": "stream",
          "text": [
            "Model: \"sequential\"\n",
            "_________________________________________________________________\n",
            "Layer (type)                 Output Shape              Param #   \n",
            "=================================================================\n",
            "up_sampling2d (UpSampling2D) (None, 4, 4, 1)           0         \n",
            "_________________________________________________________________\n",
            "up_sampling2d_1 (UpSampling2 (None, 8, 12, 1)          0         \n",
            "_________________________________________________________________\n",
            "up_sampling2d_2 (UpSampling2 (None, 16, 36, 1)         0         \n",
            "_________________________________________________________________\n",
            "up_sampling2d_3 (UpSampling2 (None, 32, 108, 1)        0         \n",
            "_________________________________________________________________\n",
            "up_sampling2d_4 (UpSampling2 (None, 64, 324, 1)        0         \n",
            "_________________________________________________________________\n",
            "up_sampling2d_5 (UpSampling2 (None, 128, 972, 1)       0         \n",
            "_________________________________________________________________\n",
            "up_sampling2d_6 (UpSampling2 (None, 256, 2916, 1)      0         \n",
            "_________________________________________________________________\n",
            "up_sampling2d_7 (UpSampling2 (None, 512, 8748, 1)      0         \n",
            "_________________________________________________________________\n",
            "up_sampling2d_8 (UpSampling2 (None, 1024, 26244, 1)    0         \n",
            "_________________________________________________________________\n",
            "up_sampling2d_9 (UpSampling2 (None, 2048, 78732, 1)    0         \n",
            "_________________________________________________________________\n",
            "up_sampling2d_10 (UpSampling (None, 4096, 236196, 1)   0         \n",
            "_________________________________________________________________\n",
            "up_sampling2d_11 (UpSampling (None, 8192, 708588, 1)   0         \n",
            "_________________________________________________________________\n",
            "up_sampling2d_12 (UpSampling (None, 16384, 2125764, 1) 0         \n",
            "_________________________________________________________________\n",
            "up_sampling2d_13 (UpSampling (None, 32768, 4251528, 1) 0         \n",
            "_________________________________________________________________\n",
            "up_sampling2d_14 (UpSampling (None, 65536, 12754584, 1 0         \n",
            "_________________________________________________________________\n",
            "up_sampling2d_15 (UpSampling (None, 131072, 38263752,  0         \n",
            "=================================================================\n",
            "Total params: 0\n",
            "Trainable params: 0\n",
            "Non-trainable params: 0\n",
            "_________________________________________________________________\n"
          ],
          "name": "stdout"
        }
      ]
    },
    {
      "cell_type": "code",
      "metadata": {
        "id": "WgTjpjEGgMUx"
      },
      "source": [
        "# example of using bilinear interpolation when upsampling\r\n",
        "model.add(UpSampling2D(interpolation='bilinear'))\r\n"
      ],
      "execution_count": null,
      "outputs": []
    },
    {
      "cell_type": "markdown",
      "metadata": {
        "id": "ng6UwAdRgTs2"
      },
      "source": [
        "### **Simple Generator Model With the UpSampling2D Layer**"
      ]
    },
    {
      "cell_type": "markdown",
      "metadata": {
        "id": "cXQciyvrgdgo"
      },
      "source": [
        "- **UpSampling2D** layer is **simple** and **effective**, BUT does **not** perform any **learning**\r\n",
        "- to be useful in GAN: each **\"UpSampling2D\"** need to be followed with a **\"Conv2D layer**\"\r\n",
        "- the **Conv2D layer** will learn to interpret the doubled input and be trained to translate it\r\n"
      ]
    },
    {
      "cell_type": "markdown",
      "metadata": {
        "id": "PPV4JAS2hAwJ"
      },
      "source": [
        "Example: produce a 10×10 image and take a 100 element vector as input"
      ]
    },
    {
      "cell_type": "code",
      "metadata": {
        "colab": {
          "base_uri": "https://localhost:8080/"
        },
        "id": "GvE6I16IhIe2",
        "outputId": "7d2d0a25-f86a-4306-b396-cd1635559709"
      },
      "source": [
        "# example of using upsampling in a simple generator model\r\n",
        "from keras.models import Sequential\r\n",
        "from keras.layers import Dense\r\n",
        "from keras.layers import Reshape\r\n",
        "from keras.layers import UpSampling2D\r\n",
        "from keras.layers import Conv2D\r\n",
        "\r\n",
        "# define model\r\n",
        "model = Sequential()\r\n",
        "\r\n",
        "# define input shape, output enough activations for for 128 5x5 image\r\n",
        "model.add(Dense(128 * 5 * 5, input_dim=100))\r\n",
        "\r\n",
        "# reshape vector of activations into 128 feature maps with 5x5\r\n",
        "model.add(Reshape((5, 5, 128)))\r\n",
        "\r\n",
        "# double input from 128 5x5 to 1 10x10 feature map\r\n",
        "model.add(UpSampling2D())\r\n",
        "\r\n",
        "# fill in detail in the upsampled feature maps and output a single image\r\n",
        "model.add(Conv2D(1, (3,3), padding='same'))\r\n",
        "\r\n",
        "# summarize model\r\n",
        "model.summary()"
      ],
      "execution_count": null,
      "outputs": [
        {
          "output_type": "stream",
          "text": [
            "Model: \"sequential_1\"\n",
            "_________________________________________________________________\n",
            "Layer (type)                 Output Shape              Param #   \n",
            "=================================================================\n",
            "dense (Dense)                (None, 3200)              323200    \n",
            "_________________________________________________________________\n",
            "reshape (Reshape)            (None, 5, 5, 128)         0         \n",
            "_________________________________________________________________\n",
            "up_sampling2d_18 (UpSampling (None, 10, 10, 128)       0         \n",
            "_________________________________________________________________\n",
            "conv2d (Conv2D)              (None, 10, 10, 1)         1153      \n",
            "=================================================================\n",
            "Total params: 324,353\n",
            "Trainable params: 324,353\n",
            "Non-trainable params: 0\n",
            "_________________________________________________________________\n"
          ],
          "name": "stdout"
        }
      ]
    },
    {
      "cell_type": "markdown",
      "metadata": {
        "id": "BwMo1kB6hj3j"
      },
      "source": [
        "1. Dense layer outputs 3,200  activations \r\n",
        "2. These activations are reshaped into 128 feature maps with the shape 5 x 5\r\n",
        "3. The UpSampling 2D layer doubles the widths and heights whcih results in a feature map with 4X the area\r\n",
        "4. Conv2D layer processes the feature maps and outputs a 10 x 10 image"
      ]
    },
    {
      "cell_type": "markdown",
      "metadata": {
        "id": "mt1TCJ28iXCH"
      },
      "source": [
        "## **Conv2DTranspose Layer**\r\n",
        "- A layer that combines the UpSampling2D and Conv2D layers into one layer\r\n",
        "- Referred to as deconvolution or deconvolutional layer \r\n",
        "- The transpose convolutional layer is like an inverse convolutional layer. \r\n",
        "    - Ex. A 2×2 stride would upsample the input instead of downsample\r\n",
        "    "
      ]
    },
    {
      "cell_type": "markdown",
      "metadata": {
        "id": "Vg4gemeVkLWB"
      },
      "source": [
        "\r\n",
        "\r\n",
        "```\r\n",
        "# With an output stride of (2,2):  the 1×1 convolution requires the insertion of additional rows and columns into the input image so that the reads of the operation can be performed\r\n",
        "\r\n",
        "         1, 0, 2, 0\r\n",
        "Input = (0, 0, 0, 0)\r\n",
        "         3, 0, 4, 0\r\n",
        "         0, 0, 0, 0\r\n",
        "# The model can then read across this input using an output stride of (2,2) and will output a 4×4 image\r\n",
        "          1, 0, 2, 0\r\n",
        "Output = (0, 0, 0, 0)\r\n",
        "          3, 0, 4, 0\r\n",
        "          0, 0, 0, 0\r\n",
        "```\r\n",
        "\r\n"
      ]
    },
    {
      "cell_type": "markdown",
      "metadata": {
        "id": "z5NEsh-5km2M"
      },
      "source": [
        "### **Example Using the Conv2DTranspose Layer**"
      ]
    },
    {
      "cell_type": "code",
      "metadata": {
        "colab": {
          "base_uri": "https://localhost:8080/"
        },
        "id": "lncaS8nlkkUB",
        "outputId": "e087dfe0-98b3-43e7-9ef0-96e776cf7a8f"
      },
      "source": [
        "# example of using the transpose convolutional layer\r\n",
        "from numpy import asarray\r\n",
        "from keras.models import Sequential\r\n",
        "from keras.layers import Conv2DTranspose\r\n",
        "\r\n",
        "# define input data\r\n",
        "X = asarray([[1, 2],\r\n",
        " [3, 4]])\r\n",
        "\r\n",
        "# show input data for context\r\n",
        "print(X)"
      ],
      "execution_count": null,
      "outputs": [
        {
          "output_type": "stream",
          "text": [
            "[[1 2]\n",
            " [3 4]]\n"
          ],
          "name": "stdout"
        }
      ]
    },
    {
      "cell_type": "code",
      "metadata": {
        "id": "IaRBm9D2k26q"
      },
      "source": [
        "# reshape input data into one sample a sample with a channel\r\n",
        "X = X.reshape((1, 2, 2, 1))"
      ],
      "execution_count": null,
      "outputs": []
    },
    {
      "cell_type": "code",
      "metadata": {
        "colab": {
          "base_uri": "https://localhost:8080/"
        },
        "id": "fmzaw37ak54N",
        "outputId": "4a4587ad-59fe-460e-fecd-b61f7d6446cb"
      },
      "source": [
        "# define model\r\n",
        "model = Sequential()\r\n",
        "\r\n",
        "# takes 2x2 grayscale images as input and outputs the result\r\n",
        "# the layer below will both upsamples and performs convolution thus\r\n",
        "# the number of filters and the sze of the filters must be specified\r\n",
        "model.add(Conv2DTranspose(1, (1,1), strides=(2,2), input_shape=(2, 2, 1)))\r\n",
        "\r\n",
        "# summarize the model\r\n",
        "model.summary()"
      ],
      "execution_count": null,
      "outputs": [
        {
          "output_type": "stream",
          "text": [
            "Model: \"sequential_4\"\n",
            "_________________________________________________________________\n",
            "Layer (type)                 Output Shape              Param #   \n",
            "=================================================================\n",
            "conv2d_transpose_2 (Conv2DTr (None, 4, 4, 1)           2         \n",
            "=================================================================\n",
            "Total params: 2\n",
            "Trainable params: 2\n",
            "Non-trainable params: 0\n",
            "_________________________________________________________________\n"
          ],
          "name": "stdout"
        }
      ]
    },
    {
      "cell_type": "code",
      "metadata": {
        "colab": {
          "base_uri": "https://localhost:8080/"
        },
        "id": "e54jqzpElsGR",
        "outputId": "767ba8e6-c87d-4641-be9a-12ce87e3f463"
      },
      "source": [
        "# define weights that they do nothing\r\n",
        "# the single weight is set to value of 1.0 and bias value of 0.0\r\n",
        "weights = [asarray([[[[1]]]]), asarray([0])]\r\n",
        "\r\n",
        "# store the weights in the model\r\n",
        "model.set_weights(weights)\r\n",
        "\r\n",
        "# make a prediction with the model\r\n",
        "yhat = model.predict(X)\r\n",
        "\r\n",
        "# reshape output to remove channel to make printing easier\r\n",
        "yhat = yhat.reshape((4, 4))\r\n",
        "\r\n",
        "# summarize output\r\n",
        "print(yhat)"
      ],
      "execution_count": null,
      "outputs": [
        {
          "output_type": "stream",
          "text": [
            "[[1. 0. 2. 0.]\n",
            " [0. 0. 0. 0.]\n",
            " [3. 0. 4. 0.]\n",
            " [0. 0. 0. 0.]]\n"
          ],
          "name": "stdout"
        }
      ]
    },
    {
      "cell_type": "code",
      "metadata": {
        "id": "HgamfIm9mpFw"
      },
      "source": [
        "# example of using padding to ensure that the output is only doubled\r\n",
        "model.add(Conv2DTranspose(1, (3,3), strides=(2,2), padding='same', input_shape=(2, 2, 1)))"
      ],
      "execution_count": null,
      "outputs": []
    },
    {
      "cell_type": "markdown",
      "metadata": {
        "id": "ok6wySf5LRcg"
      },
      "source": [
        "## **Simple Generator Model With the Conv2DTranspose Layer**"
      ]
    },
    {
      "cell_type": "code",
      "metadata": {
        "colab": {
          "base_uri": "https://localhost:8080/"
        },
        "id": "nqk5YuAELfV0",
        "outputId": "14434b76-889b-4abd-e6b5-ff61c7e3cb7b"
      },
      "source": [
        "# example of using transpose conv in a simple generator model\r\n",
        "from keras.models import Sequential\r\n",
        "from keras.layers import Dense\r\n",
        "from keras.layers import Reshape\r\n",
        "from keras.layers import Conv2DTranspose\r\n",
        "from keras.layers import Conv2D\r\n",
        "\r\n",
        "# define model\r\n",
        "model = Sequential()\r\n",
        "\r\n",
        "# define input shape, output enough activations for for 128 5x5 image\r\n",
        "model.add(Dense(128 * 5 * 5, input_dim=100))\r\n",
        "\r\n",
        "# reshape vector of activations into 128 feature maps with 5x5\r\n",
        "model.add(Reshape((5, 5, 128)))\r\n",
        "\r\n",
        "# double input from 128 5x5 to 1 10x10 feature map\r\n",
        "model.add(Conv2DTranspose(1, (3,3), strides=(2,2), padding='same'))\r\n",
        "\r\n",
        "# summarize model\r\n",
        "model.summary()"
      ],
      "execution_count": 2,
      "outputs": [
        {
          "output_type": "stream",
          "text": [
            "Model: \"sequential_1\"\n",
            "_________________________________________________________________\n",
            "Layer (type)                 Output Shape              Param #   \n",
            "=================================================================\n",
            "dense_1 (Dense)              (None, 3200)              323200    \n",
            "_________________________________________________________________\n",
            "reshape_1 (Reshape)          (None, 5, 5, 128)         0         \n",
            "_________________________________________________________________\n",
            "conv2d_transpose_1 (Conv2DTr (None, 10, 10, 1)         1153      \n",
            "=================================================================\n",
            "Total params: 324,353\n",
            "Trainable params: 324,353\n",
            "Non-trainable params: 0\n",
            "_________________________________________________________________\n"
          ],
          "name": "stdout"
        }
      ]
    }
  ]
}